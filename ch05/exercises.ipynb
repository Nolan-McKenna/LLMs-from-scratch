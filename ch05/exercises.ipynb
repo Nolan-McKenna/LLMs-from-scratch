{
 "cells": [
  {
   "cell_type": "code",
   "execution_count": null,
   "metadata": {},
   "outputs": [
    {
     "ename": "",
     "evalue": "",
     "output_type": "error",
     "traceback": [
      "\u001b[1;31mFailed to start the Kernel. \n",
      "\u001b[1;31mTraceback (most recent call last):\n",
      "\u001b[1;31m  File \"<frozen runpy>\", line 198, in _run_module_as_main\n",
      "\u001b[1;31m  File \"<frozen runpy>\", line 88, in _run_code\n",
      "\u001b[1;31m  File \"/Users/nolanmckenna/miniconda3/lib/python3.11/site-packages/ipykernel_launcher.py\", line 16, in <module>\n",
      "\u001b[1;31m    from ipykernel import kernelapp as app\n",
      "\u001b[1;31m  File \"/Users/nolanmckenna/miniconda3/lib/python3.11/site-packages/ipykernel/kernelapp.py\", line 21, in <module>\n",
      "\u001b[1;31m    from IPython.core.application import (  # type:ignore[attr-defined]\n",
      "\u001b[1;31m  File \"/Users/nolanmckenna/miniconda3/lib/python3.11/site-packages/IPython/__init__.py\", line 57, in <module>\n",
      "\u001b[1;31m    from .terminal.embed import embed\n",
      "\u001b[1;31m  File \"/Users/nolanmckenna/miniconda3/lib/python3.11/site-packages/IPython/terminal/embed.py\", line 15, in <module>\n",
      "\u001b[1;31m    from IPython.core.interactiveshell import InteractiveShell, make_main_module_type\n",
      "\u001b[1;31m  File \"/Users/nolanmckenna/miniconda3/lib/python3.11/site-packages/IPython/core/interactiveshell.py\", line 69, in <module>\n",
      "\u001b[1;31m    from IPython.core.displayhook import DisplayHook\n",
      "\u001b[1;31m  File \"/Users/nolanmckenna/miniconda3/lib/python3.11/site-packages/IPython/core/displayhook.py\", line 19, in <module>\n",
      "\u001b[1;31m    from .history import HistoryOutput\n",
      "\u001b[1;31m  File \"/Users/nolanmckenna/miniconda3/lib/python3.11/site-packages/IPython/core/history.py\", line 48, in <module>\n",
      "\u001b[1;31m    from sqlite3 import DatabaseError, OperationalError\n",
      "\u001b[1;31m  File \"/Users/nolanmckenna/miniconda3/lib/python3.11/sqlite3/__init__.py\", line 57, in <module>\n",
      "\u001b[1;31m    from sqlite3.dbapi2 import *\n",
      "\u001b[1;31m  File \"/Users/nolanmckenna/miniconda3/lib/python3.11/sqlite3/dbapi2.py\", line 27, in <module>\n",
      "\u001b[1;31m    from _sqlite3 import *\n",
      "\u001b[1;31mImportError: dlopen(/Users/nolanmckenna/miniconda3/lib/python3.11/lib-dynload/_sqlite3.cpython-311-darwin.so, 0x0002): Symbol not found: _sqlite3_create_window_function\n",
      "\u001b[1;31m  Referenced from: <7B0648EA-1F0F-3AC9-B860-A64E64A21E6C> /Users/nolanmckenna/miniconda3/lib/python3.11/lib-dynload/_sqlite3.cpython-311-darwin.so\n",
      "\u001b[1;31m  Expected in:     <D38C3C69-3DF2-3D70-898A-9E79B37FD2BE> /Users/nolanmckenna/miniconda3/lib/libsqlite3.0.dylib. \n",
      "\u001b[1;31mView Jupyter <a href='command:jupyter.viewOutput'>log</a> for further details."
     ]
    }
   ],
   "source": [
    "from importlib.metadata import version\n",
    "\n",
    "pkgs = [\"numpy\", \n",
    "        \"tiktoken\", \n",
    "        \"torch\",\n",
    "        \"tensorflow\" # For OpenAI's pretrained weights\n",
    "       ]\n",
    "for p in pkgs:\n",
    "    print(f\"{p} version: {version(p)}\")"
   ]
  },
  {
   "cell_type": "code",
   "execution_count": null,
   "metadata": {},
   "outputs": [
    {
     "ename": "",
     "evalue": "",
     "output_type": "error",
     "traceback": [
      "\u001b[1;31mFailed to start the Kernel. \n",
      "\u001b[1;31mTraceback (most recent call last):\n",
      "\u001b[1;31m  File \"<frozen runpy>\", line 198, in _run_module_as_main\n",
      "\u001b[1;31m  File \"<frozen runpy>\", line 88, in _run_code\n",
      "\u001b[1;31m  File \"/Users/nolanmckenna/miniconda3/lib/python3.11/site-packages/ipykernel_launcher.py\", line 16, in <module>\n",
      "\u001b[1;31m    from ipykernel import kernelapp as app\n",
      "\u001b[1;31m  File \"/Users/nolanmckenna/miniconda3/lib/python3.11/site-packages/ipykernel/kernelapp.py\", line 21, in <module>\n",
      "\u001b[1;31m    from IPython.core.application import (  # type:ignore[attr-defined]\n",
      "\u001b[1;31m  File \"/Users/nolanmckenna/miniconda3/lib/python3.11/site-packages/IPython/__init__.py\", line 55, in <module>\n",
      "\u001b[1;31m    from .terminal.embed import embed\n",
      "\u001b[1;31m  File \"/Users/nolanmckenna/miniconda3/lib/python3.11/site-packages/IPython/terminal/embed.py\", line 15, in <module>\n",
      "\u001b[1;31m    from IPython.core.interactiveshell import DummyMod, InteractiveShell\n",
      "\u001b[1;31m  File \"/Users/nolanmckenna/miniconda3/lib/python3.11/site-packages/IPython/core/interactiveshell.py\", line 110, in <module>\n",
      "\u001b[1;31m    from IPython.core.history import HistoryManager\n",
      "\u001b[1;31m  File \"/Users/nolanmckenna/miniconda3/lib/python3.11/site-packages/IPython/core/history.py\", line 10, in <module>\n",
      "\u001b[1;31m    import sqlite3\n",
      "\u001b[1;31m  File \"/Users/nolanmckenna/miniconda3/lib/python3.11/sqlite3/__init__.py\", line 57, in <module>\n",
      "\u001b[1;31m    from sqlite3.dbapi2 import *\n",
      "\u001b[1;31m  File \"/Users/nolanmckenna/miniconda3/lib/python3.11/sqlite3/dbapi2.py\", line 27, in <module>\n",
      "\u001b[1;31m    from _sqlite3 import *\n",
      "\u001b[1;31mImportError: dlopen(/Users/nolanmckenna/miniconda3/lib/python3.11/lib-dynload/_sqlite3.cpython-311-darwin.so, 0x0002): Symbol not found: _sqlite3_create_window_function\n",
      "\u001b[1;31m  Referenced from: <DE42127F-3CC0-39B5-A26C-17EF98FD1C33> /Users/nolanmckenna/miniconda3/lib/python3.11/lib-dynload/_sqlite3.cpython-311-darwin.so\n",
      "\u001b[1;31m  Expected in:     <D38C3C69-3DF2-3D70-898A-9E79B37FD2BE> /Users/nolanmckenna/miniconda3/lib/libsqlite3.0.dylib. \n",
      "\u001b[1;31mView Jupyter <a href='command:jupyter.viewOutput'>log</a> for further details."
     ]
    }
   ],
   "source": [
    "import torch\n",
    "\n",
    "vocab = { \n",
    "    \"closer\": 0,\n",
    "    \"every\": 1, \n",
    "    \"effort\": 2, \n",
    "    \"forward\": 3,\n",
    "    \"inches\": 4,\n",
    "    \"moves\": 5, \n",
    "    \"pizza\": 6,\n",
    "    \"toward\": 7,\n",
    "    \"you\": 8,\n",
    "} \n",
    "inverse_vocab = {v: k for k, v in vocab.items()}\n",
    "\n",
    "next_token_logits = torch.tensor(\n",
    "    [4.51, 0.89, -1.90, 6.75, 1.63, -1.62, -1.89, 6.28, 1.79]\n",
    ")\n",
    "\n",
    "def print_sampled_tokens(probas):\n",
    "    torch.manual_seed(123)\n",
    "    sample = [torch.multinomial(probas, num_samples=1).item() for i in range(1_000)]\n",
    "    sampled_ids = torch.bincount(torch.tensor(sample))\n",
    "    for i, freq in enumerate(sampled_ids):\n",
    "        print(f\"{freq} x {inverse_vocab[i]}\")\n",
    "\n",
    "\n",
    "def softmax_with_temperature(logits, temperature):\n",
    "    scaled_logits = logits / temperature\n",
    "    return torch.softmax(scaled_logits, dim=0)\n",
    "\n",
    "\n",
    "temperatures = [1, 0.1, 5]  # Original, higher, and lower temperature\n",
    "scaled_probas = [softmax_with_temperature(next_token_logits, T) for T in temperatures]"
   ]
  },
  {
   "cell_type": "code",
   "execution_count": null,
   "metadata": {},
   "outputs": [
    {
     "ename": "",
     "evalue": "",
     "output_type": "error",
     "traceback": [
      "\u001b[1;31mFailed to start the Kernel. \n",
      "\u001b[1;31mTraceback (most recent call last):\n",
      "\u001b[1;31m  File \"<frozen runpy>\", line 198, in _run_module_as_main\n",
      "\u001b[1;31m  File \"<frozen runpy>\", line 88, in _run_code\n",
      "\u001b[1;31m  File \"/Users/nolanmckenna/miniconda3/lib/python3.11/site-packages/ipykernel_launcher.py\", line 16, in <module>\n",
      "\u001b[1;31m    from ipykernel import kernelapp as app\n",
      "\u001b[1;31m  File \"/Users/nolanmckenna/miniconda3/lib/python3.11/site-packages/ipykernel/kernelapp.py\", line 21, in <module>\n",
      "\u001b[1;31m    from IPython.core.application import (  # type:ignore[attr-defined]\n",
      "\u001b[1;31m  File \"/Users/nolanmckenna/miniconda3/lib/python3.11/site-packages/IPython/__init__.py\", line 55, in <module>\n",
      "\u001b[1;31m    from .terminal.embed import embed\n",
      "\u001b[1;31m  File \"/Users/nolanmckenna/miniconda3/lib/python3.11/site-packages/IPython/terminal/embed.py\", line 15, in <module>\n",
      "\u001b[1;31m    from IPython.core.interactiveshell import DummyMod, InteractiveShell\n",
      "\u001b[1;31m  File \"/Users/nolanmckenna/miniconda3/lib/python3.11/site-packages/IPython/core/interactiveshell.py\", line 110, in <module>\n",
      "\u001b[1;31m    from IPython.core.history import HistoryManager\n",
      "\u001b[1;31m  File \"/Users/nolanmckenna/miniconda3/lib/python3.11/site-packages/IPython/core/history.py\", line 10, in <module>\n",
      "\u001b[1;31m    import sqlite3\n",
      "\u001b[1;31m  File \"/Users/nolanmckenna/miniconda3/lib/python3.11/sqlite3/__init__.py\", line 57, in <module>\n",
      "\u001b[1;31m    from sqlite3.dbapi2 import *\n",
      "\u001b[1;31m  File \"/Users/nolanmckenna/miniconda3/lib/python3.11/sqlite3/dbapi2.py\", line 27, in <module>\n",
      "\u001b[1;31m    from _sqlite3 import *\n",
      "\u001b[1;31mImportError: dlopen(/Users/nolanmckenna/miniconda3/lib/python3.11/lib-dynload/_sqlite3.cpython-311-darwin.so, 0x0002): Symbol not found: _sqlite3_create_window_function\n",
      "\u001b[1;31m  Referenced from: <DE42127F-3CC0-39B5-A26C-17EF98FD1C33> /Users/nolanmckenna/miniconda3/lib/python3.11/lib-dynload/_sqlite3.cpython-311-darwin.so\n",
      "\u001b[1;31m  Expected in:     <D38C3C69-3DF2-3D70-898A-9E79B37FD2BE> /Users/nolanmckenna/miniconda3/lib/libsqlite3.0.dylib. \n",
      "\u001b[1;31mView Jupyter <a href='command:jupyter.viewOutput'>log</a> for further details."
     ]
    }
   ],
   "source": [
    "for i, probas in enumerate(scaled_probas):\n",
    "    print(\"\\n\\nTemperature:\", temperatures[i])\n",
    "    print_sampled_tokens(probas)"
   ]
  },
  {
   "cell_type": "code",
   "execution_count": null,
   "metadata": {},
   "outputs": [
    {
     "ename": "",
     "evalue": "",
     "output_type": "error",
     "traceback": [
      "\u001b[1;31mFailed to start the Kernel. \n",
      "\u001b[1;31mTraceback (most recent call last):\n",
      "\u001b[1;31m  File \"<frozen runpy>\", line 198, in _run_module_as_main\n",
      "\u001b[1;31m  File \"<frozen runpy>\", line 88, in _run_code\n",
      "\u001b[1;31m  File \"/Users/nolanmckenna/miniconda3/lib/python3.11/site-packages/ipykernel_launcher.py\", line 16, in <module>\n",
      "\u001b[1;31m    from ipykernel import kernelapp as app\n",
      "\u001b[1;31m  File \"/Users/nolanmckenna/miniconda3/lib/python3.11/site-packages/ipykernel/kernelapp.py\", line 21, in <module>\n",
      "\u001b[1;31m    from IPython.core.application import (  # type:ignore[attr-defined]\n",
      "\u001b[1;31m  File \"/Users/nolanmckenna/miniconda3/lib/python3.11/site-packages/IPython/__init__.py\", line 55, in <module>\n",
      "\u001b[1;31m    from .terminal.embed import embed\n",
      "\u001b[1;31m  File \"/Users/nolanmckenna/miniconda3/lib/python3.11/site-packages/IPython/terminal/embed.py\", line 15, in <module>\n",
      "\u001b[1;31m    from IPython.core.interactiveshell import DummyMod, InteractiveShell\n",
      "\u001b[1;31m  File \"/Users/nolanmckenna/miniconda3/lib/python3.11/site-packages/IPython/core/interactiveshell.py\", line 110, in <module>\n",
      "\u001b[1;31m    from IPython.core.history import HistoryManager\n",
      "\u001b[1;31m  File \"/Users/nolanmckenna/miniconda3/lib/python3.11/site-packages/IPython/core/history.py\", line 10, in <module>\n",
      "\u001b[1;31m    import sqlite3\n",
      "\u001b[1;31m  File \"/Users/nolanmckenna/miniconda3/lib/python3.11/sqlite3/__init__.py\", line 57, in <module>\n",
      "\u001b[1;31m    from sqlite3.dbapi2 import *\n",
      "\u001b[1;31m  File \"/Users/nolanmckenna/miniconda3/lib/python3.11/sqlite3/dbapi2.py\", line 27, in <module>\n",
      "\u001b[1;31m    from _sqlite3 import *\n",
      "\u001b[1;31mImportError: dlopen(/Users/nolanmckenna/miniconda3/lib/python3.11/lib-dynload/_sqlite3.cpython-311-darwin.so, 0x0002): Symbol not found: _sqlite3_create_window_function\n",
      "\u001b[1;31m  Referenced from: <DE42127F-3CC0-39B5-A26C-17EF98FD1C33> /Users/nolanmckenna/miniconda3/lib/python3.11/lib-dynload/_sqlite3.cpython-311-darwin.so\n",
      "\u001b[1;31m  Expected in:     <D38C3C69-3DF2-3D70-898A-9E79B37FD2BE> /Users/nolanmckenna/miniconda3/lib/libsqlite3.0.dylib. \n",
      "\u001b[1;31mView Jupyter <a href='command:jupyter.viewOutput'>log</a> for further details."
     ]
    }
   ],
   "source": [
    "temp5_idx = 2\n",
    "pizza_idx = 6\n",
    "\n",
    "scaled_probas[temp5_idx][pizza_idx]"
   ]
  },
  {
   "attachments": {},
   "cell_type": "markdown",
   "metadata": {},
   "source": [
    "### Exercise 5.3"
   ]
  },
  {
   "cell_type": "code",
   "execution_count": null,
   "metadata": {},
   "outputs": [
    {
     "ename": "",
     "evalue": "",
     "output_type": "error",
     "traceback": [
      "\u001b[1;31mFailed to start the Kernel. \n",
      "\u001b[1;31mTraceback (most recent call last):\n",
      "\u001b[1;31m  File \"<frozen runpy>\", line 198, in _run_module_as_main\n",
      "\u001b[1;31m  File \"<frozen runpy>\", line 88, in _run_code\n",
      "\u001b[1;31m  File \"/Users/nolanmckenna/miniconda3/lib/python3.11/site-packages/ipykernel_launcher.py\", line 16, in <module>\n",
      "\u001b[1;31m    from ipykernel import kernelapp as app\n",
      "\u001b[1;31m  File \"/Users/nolanmckenna/miniconda3/lib/python3.11/site-packages/ipykernel/kernelapp.py\", line 21, in <module>\n",
      "\u001b[1;31m    from IPython.core.application import (  # type:ignore[attr-defined]\n",
      "\u001b[1;31m  File \"/Users/nolanmckenna/miniconda3/lib/python3.11/site-packages/IPython/__init__.py\", line 55, in <module>\n",
      "\u001b[1;31m    from .terminal.embed import embed\n",
      "\u001b[1;31m  File \"/Users/nolanmckenna/miniconda3/lib/python3.11/site-packages/IPython/terminal/embed.py\", line 15, in <module>\n",
      "\u001b[1;31m    from IPython.core.interactiveshell import DummyMod, InteractiveShell\n",
      "\u001b[1;31m  File \"/Users/nolanmckenna/miniconda3/lib/python3.11/site-packages/IPython/core/interactiveshell.py\", line 110, in <module>\n",
      "\u001b[1;31m    from IPython.core.history import HistoryManager\n",
      "\u001b[1;31m  File \"/Users/nolanmckenna/miniconda3/lib/python3.11/site-packages/IPython/core/history.py\", line 10, in <module>\n",
      "\u001b[1;31m    import sqlite3\n",
      "\u001b[1;31m  File \"/Users/nolanmckenna/miniconda3/lib/python3.11/sqlite3/__init__.py\", line 57, in <module>\n",
      "\u001b[1;31m    from sqlite3.dbapi2 import *\n",
      "\u001b[1;31m  File \"/Users/nolanmckenna/miniconda3/lib/python3.11/sqlite3/dbapi2.py\", line 27, in <module>\n",
      "\u001b[1;31m    from _sqlite3 import *\n",
      "\u001b[1;31mImportError: dlopen(/Users/nolanmckenna/miniconda3/lib/python3.11/lib-dynload/_sqlite3.cpython-311-darwin.so, 0x0002): Symbol not found: _sqlite3_create_window_function\n",
      "\u001b[1;31m  Referenced from: <DE42127F-3CC0-39B5-A26C-17EF98FD1C33> /Users/nolanmckenna/miniconda3/lib/python3.11/lib-dynload/_sqlite3.cpython-311-darwin.so\n",
      "\u001b[1;31m  Expected in:     <D38C3C69-3DF2-3D70-898A-9E79B37FD2BE> /Users/nolanmckenna/miniconda3/lib/libsqlite3.0.dylib. \n",
      "\u001b[1;31mView Jupyter <a href='command:jupyter.viewOutput'>log</a> for further details."
     ]
    }
   ],
   "source": [
    "import tiktoken\n",
    "import torch\n",
    "from previous_chapters import GPTModel\n",
    "\n",
    "\n",
    "GPT_CONFIG_124M = {\n",
    "    \"vocab_size\": 50257,  # Vocabulary size\n",
    "    \"context_length\": 256,       # Shortened context length (orig: 1024)\n",
    "    \"emb_dim\": 768,       # Embedding dimension\n",
    "    \"n_heads\": 12,        # Number of attention heads\n",
    "    \"n_layers\": 12,       # Number of layers\n",
    "    \"drop_rate\": 0.1,     # Dropout rate\n",
    "    \"qkv_bias\": False     # Query-key-value bias\n",
    "}\n",
    "\n",
    "\n",
    "torch.manual_seed(123)\n",
    "\n",
    "tokenizer = tiktoken.get_encoding(\"gpt2\")\n",
    "model = GPTModel(GPT_CONFIG_124M)\n",
    "model.load_state_dict(torch.load(\"model.pth\", weights_only=True))\n",
    "model.eval()"
   ]
  },
  {
   "cell_type": "code",
   "execution_count": null,
   "metadata": {},
   "outputs": [
    {
     "ename": "",
     "evalue": "",
     "output_type": "error",
     "traceback": [
      "\u001b[1;31mFailed to start the Kernel. \n",
      "\u001b[1;31mTraceback (most recent call last):\n",
      "\u001b[1;31m  File \"<frozen runpy>\", line 198, in _run_module_as_main\n",
      "\u001b[1;31m  File \"<frozen runpy>\", line 88, in _run_code\n",
      "\u001b[1;31m  File \"/Users/nolanmckenna/miniconda3/lib/python3.11/site-packages/ipykernel_launcher.py\", line 16, in <module>\n",
      "\u001b[1;31m    from ipykernel import kernelapp as app\n",
      "\u001b[1;31m  File \"/Users/nolanmckenna/miniconda3/lib/python3.11/site-packages/ipykernel/kernelapp.py\", line 21, in <module>\n",
      "\u001b[1;31m    from IPython.core.application import (  # type:ignore[attr-defined]\n",
      "\u001b[1;31m  File \"/Users/nolanmckenna/miniconda3/lib/python3.11/site-packages/IPython/__init__.py\", line 55, in <module>\n",
      "\u001b[1;31m    from .terminal.embed import embed\n",
      "\u001b[1;31m  File \"/Users/nolanmckenna/miniconda3/lib/python3.11/site-packages/IPython/terminal/embed.py\", line 15, in <module>\n",
      "\u001b[1;31m    from IPython.core.interactiveshell import DummyMod, InteractiveShell\n",
      "\u001b[1;31m  File \"/Users/nolanmckenna/miniconda3/lib/python3.11/site-packages/IPython/core/interactiveshell.py\", line 110, in <module>\n",
      "\u001b[1;31m    from IPython.core.history import HistoryManager\n",
      "\u001b[1;31m  File \"/Users/nolanmckenna/miniconda3/lib/python3.11/site-packages/IPython/core/history.py\", line 10, in <module>\n",
      "\u001b[1;31m    import sqlite3\n",
      "\u001b[1;31m  File \"/Users/nolanmckenna/miniconda3/lib/python3.11/sqlite3/__init__.py\", line 57, in <module>\n",
      "\u001b[1;31m    from sqlite3.dbapi2 import *\n",
      "\u001b[1;31m  File \"/Users/nolanmckenna/miniconda3/lib/python3.11/sqlite3/dbapi2.py\", line 27, in <module>\n",
      "\u001b[1;31m    from _sqlite3 import *\n",
      "\u001b[1;31mImportError: dlopen(/Users/nolanmckenna/miniconda3/lib/python3.11/lib-dynload/_sqlite3.cpython-311-darwin.so, 0x0002): Symbol not found: _sqlite3_create_window_function\n",
      "\u001b[1;31m  Referenced from: <DE42127F-3CC0-39B5-A26C-17EF98FD1C33> /Users/nolanmckenna/miniconda3/lib/python3.11/lib-dynload/_sqlite3.cpython-311-darwin.so\n",
      "\u001b[1;31m  Expected in:     <D38C3C69-3DF2-3D70-898A-9E79B37FD2BE> /Users/nolanmckenna/miniconda3/lib/libsqlite3.0.dylib. \n",
      "\u001b[1;31mView Jupyter <a href='command:jupyter.viewOutput'>log</a> for further details."
     ]
    }
   ],
   "source": []
  }
 ],
 "metadata": {
  "kernelspec": {
   "display_name": "base",
   "language": "python",
   "name": "python3"
  },
  "language_info": {
   "codemirror_mode": {
    "name": "ipython",
    "version": 3
   },
   "file_extension": ".py",
   "mimetype": "text/x-python",
   "name": "python",
   "nbconvert_exporter": "python",
   "pygments_lexer": "ipython3",
   "version": "3.11.8"
  },
  "orig_nbformat": 4
 },
 "nbformat": 4,
 "nbformat_minor": 2
}

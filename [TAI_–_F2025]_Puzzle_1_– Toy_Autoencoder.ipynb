{
  "nbformat": 4,
  "nbformat_minor": 0,
  "metadata": {
    "colab": {
      "provenance": [],
      "include_colab_link": true
    },
    "kernelspec": {
      "name": "python3",
      "display_name": "Python 3"
    },
    "language_info": {
      "name": "python"
    }
  },
  "cells": [
    {
      "cell_type": "markdown",
      "metadata": {
        "id": "view-in-github",
        "colab_type": "text"
      },
      "source": [
        "<a href=\"https://colab.research.google.com/github/Nolan-McKenna/LLMs-from-scratch/blob/main/%5BTAI_%E2%80%93_F2025%5D_Puzzle_1_%E2%80%93%C2%A0Toy_Autoencoder.ipynb\" target=\"_parent\"><img src=\"https://colab.research.google.com/assets/colab-badge.svg\" alt=\"Open In Colab\"/></a>"
      ]
    },
    {
      "cell_type": "markdown",
      "source": [
        "# Puzzle #1 🧩\n",
        "## Trustworthy AI, Cornell Tech\n",
        "## August 27th, 2025\n",
        "\n",
        "This notebook contains boilerplate Python code for initializing a multilayer perceptron and training it to remove noise from a batch of data. Below the code that defines the `nn.Module` is some very minimal optimization code. We initialize the neural network and train it to minimize the reconstruction error between `x` and `y`. Since the training set is very small (10 inputs, each a vector of length 5) even this small neural network should be able to perfectly fit the data. This means that the loss should be close to zero.\n",
        "\n",
        "However, something is wrong– if you run the code, you'll notice the loss stagnates; it won't drop below `0.3` or so. This indicates to us that there must be an error somewhere. This pattern of \"failing silently\" is very common in deep learning systems code. There isn't a compilation or runtime error; in fact, the code *looks right*, at least at first glance, but something is clearly amiss.\n",
        "\n",
        "So what's gone wrong? Maybe it's an optimization bug, or a problem with the data, or problem with our nn.Module. This is the tricky part about debugging these systems: we have to understand all the components and how they interact so that we might locate the one or two lines of code that aren't quite right. Spend the next few minutes exploring the code and talking to your classmates – see if you can find and fix the bug. You'll know it's working if you can get a loss close to zero (say, less than 0.001)."
      ],
      "metadata": {
        "id": "7D25T9N5f3X_"
      }
    },
    {
      "cell_type": "code",
      "execution_count": null,
      "metadata": {
        "id": "yNuYYN8VeC93"
      },
      "outputs": [],
      "source": [
        "import torch\n",
        "import torch.nn as nn\n",
        "\n",
        "class MultilayerPerceptron(nn.Module):\n",
        "\n",
        "  def __init__(self, input_size, hidden_size):\n",
        "    # Call to the __init__ function of the super class\n",
        "    super(MultilayerPerceptron, self).__init__()\n",
        "\n",
        "    # Bookkeeping: Saving the initialization parameters\n",
        "    self.input_size = input_size\n",
        "    self.hidden_size = hidden_size\n",
        "\n",
        "    # Defining our layers\n",
        "    self.linear = nn.Linear(self.input_size, self.hidden_size) # Ax + b ==> A.shape? b.shape? (go from size 5 to 3)\n",
        "    self.relu = nn.ReLU()\n",
        "    self.linear2 = nn.Linear(self.hidden_size, self.input_size) # Ax + b ==> A.shape? b.shape? (go from size 3 to 5)\n",
        "    self.sigmoid = nn.Sigmoid()\n",
        "\n",
        "  def forward(self, x):\n",
        "    linear = self.linear(x)\n",
        "    relu = self.relu(linear)\n",
        "    linear2 = self.linear2(relu)\n",
        "    return self.sigmoid(linear2)"
      ]
    },
    {
      "cell_type": "code",
      "source": [
        "import torch\n",
        "# Create the y data\n",
        "y = torch.ones(10, 5)\n",
        "\n",
        "# Add some noise to our goal y to generate our x\n",
        "# We want out model to predict our original data, albeit the noise\n",
        "x = y + torch.randn_like(y)\n",
        "x"
      ],
      "metadata": {
        "colab": {
          "base_uri": "https://localhost:8080/"
        },
        "id": "9uoudhEreXxn",
        "outputId": "b13391c4-d071-4284-fc9e-5e0741ada7f5"
      },
      "execution_count": null,
      "outputs": [
        {
          "output_type": "execute_result",
          "data": {
            "text/plain": [
              "tensor([[ 1.5912e+00,  2.6406e+00,  1.4541e+00, -2.2610e-01,  1.1025e+00],\n",
              "        [ 5.0721e-01,  1.7718e+00,  7.1684e-01,  1.7178e-01, -8.9943e-01],\n",
              "        [ 1.3405e+00,  2.6879e-01,  1.0571e+00,  1.4612e+00,  2.4605e+00],\n",
              "        [ 1.7103e+00,  1.4055e+00,  8.2354e-01,  8.0809e-01,  9.7267e-01],\n",
              "        [ 6.9834e-01,  2.1351e+00,  1.4164e+00,  2.2111e+00, -4.8454e-01],\n",
              "        [ 1.6686e+00,  9.9842e-01,  9.8553e-03, -1.5938e-01,  2.6186e+00],\n",
              "        [ 7.8314e-01, -2.7742e-02,  7.9494e-01,  2.1511e+00, -8.4227e-01],\n",
              "        [ 4.5899e-01,  7.1817e-01,  6.8390e-01,  7.5225e-01,  5.9977e-01],\n",
              "        [-5.6351e-01,  2.0711e+00,  2.0488e+00, -3.0976e-02,  1.6249e-01],\n",
              "        [-1.2740e-03, -8.6792e-01,  1.4511e+00,  1.7845e+00,  2.5167e+00]])"
            ]
          },
          "metadata": {},
          "execution_count": 2
        }
      ]
    },
    {
      "cell_type": "code",
      "source": [
        "import torch.optim as optim\n",
        "\n",
        "model = MultilayerPerceptron(5, 3)\n",
        "adam = optim.Adam(model.parameters(), lr=1)\n",
        "loss_function = nn.BCEWithLogitsLoss()\n",
        "\n",
        "# Set the number of epoch, which determines the number of training iterations\n",
        "n_epoch = 10\n",
        "\n",
        "for epoch in range(n_epoch):\n",
        "  # Set the gradients to 0\n",
        "  adam.zero_grad()\n",
        "\n",
        "  # Get the model predictions\n",
        "  y_pred = model(x)\n",
        "\n",
        "  # Get the loss\n",
        "  loss = loss_function(y_pred, y)\n",
        "\n",
        "  # Print stats\n",
        "  print(f\"Epoch {epoch}: traing loss: {loss}\")\n",
        "\n",
        "  # Compute the gradients\n",
        "  loss.backward()\n",
        "\n",
        "  # Take a step to optimize the weights\n",
        "  adam.step()\n"
      ],
      "metadata": {
        "colab": {
          "base_uri": "https://localhost:8080/"
        },
        "id": "rzBWROfceGo0",
        "outputId": "220c653a-ac4e-4fe5-a2b1-d0f050fea85a"
      },
      "execution_count": null,
      "outputs": [
        {
          "output_type": "stream",
          "name": "stdout",
          "text": [
            "Epoch 0: traing loss: 0.46102362871170044\n",
            "Epoch 1: traing loss: 0.3133334219455719\n",
            "Epoch 2: traing loss: 0.31326165795326233\n",
            "Epoch 3: traing loss: 0.31326165795326233\n",
            "Epoch 4: traing loss: 0.31326165795326233\n",
            "Epoch 5: traing loss: 0.31326165795326233\n",
            "Epoch 6: traing loss: 0.31326165795326233\n",
            "Epoch 7: traing loss: 0.31326165795326233\n",
            "Epoch 8: traing loss: 0.31326165795326233\n",
            "Epoch 9: traing loss: 0.31326165795326233\n"
          ]
        }
      ]
    },
    {
      "cell_type": "code",
      "source": [],
      "metadata": {
        "id": "oVPJZouFlpZc"
      },
      "execution_count": null,
      "outputs": []
    }
  ]
}